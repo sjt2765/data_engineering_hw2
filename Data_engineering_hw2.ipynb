{
 "cells": [
  {
   "cell_type": "code",
   "execution_count": 2,
   "id": "cf4f04ea-1041-4a2b-86f7-42968941d9d1",
   "metadata": {},
   "outputs": [
    {
     "name": "stdout",
     "output_type": "stream",
     "text": [
      "['physics', 'calculus', 'poetry', 'history']\n"
     ]
    }
   ],
   "source": [
    "subjects = [\"physics\", \"calculus\", \"poetry\", \"history\"]\n",
    "print(subjects)"
   ]
  },
  {
   "cell_type": "code",
   "execution_count": 3,
   "id": "4421508e-d3de-41f3-98d3-2bed304918b5",
   "metadata": {},
   "outputs": [
    {
     "name": "stdout",
     "output_type": "stream",
     "text": [
      "[98, 97, 85, 88]\n"
     ]
    }
   ],
   "source": [
    "grades = [98, 97, 85, 88]\n",
    "print(grades)"
   ]
  },
  {
   "cell_type": "code",
   "execution_count": 4,
   "id": "9a3ba7ae-803c-4bcc-88ce-fa58312517f5",
   "metadata": {},
   "outputs": [
    {
     "name": "stdout",
     "output_type": "stream",
     "text": [
      "[['physics', 98], ['calculus', 97], ['poetry', 85], ['history', 88]]\n"
     ]
    }
   ],
   "source": [
    "gradebook = []\n",
    "for i in range(len(subjects)):\n",
    "    gradebook.append([subjects[i], grades[i]])\n",
    "\n",
    "print(gradebook)"
   ]
  },
  {
   "cell_type": "code",
   "execution_count": 16,
   "id": "47246c40-12c1-40ce-b93b-99b26e604677",
   "metadata": {},
   "outputs": [
    {
     "name": "stdout",
     "output_type": "stream",
     "text": [
      "[['physics', 98], ['calculus', 97], ['history', 88], ['computer sience', 100], ['visual arts', 108], ['computer sience', 100], ['visual arts', 93]]\n"
     ]
    }
   ],
   "source": [
    "gradebook.append([\"computer sience\", 100])\n",
    "gradebook.append([\"visual arts\", 93])\n",
    "print(gradebook)"
   ]
  },
  {
   "cell_type": "code",
   "execution_count": 17,
   "id": "785a9774-5b18-42e6-a7ec-5b50c1becd50",
   "metadata": {},
   "outputs": [],
   "source": [
    "for extra in gradebook:\n",
    "    if extra[0] == \"visual arts\":\n",
    "        extra[1]+=5"
   ]
  },
  {
   "cell_type": "code",
   "execution_count": 18,
   "id": "05f27f16-d020-4a66-bc96-4895d3532280",
   "metadata": {},
   "outputs": [
    {
     "name": "stdout",
     "output_type": "stream",
     "text": [
      "[['physics', 98], ['calculus', 97], ['history', 88], ['computer sience', 100], ['visual arts', 113], ['computer sience', 100], ['visual arts', 98]]\n"
     ]
    }
   ],
   "source": [
    "for extra in gradebook:\n",
    "    if extra[0] == \"poetry\":\n",
    "        gradebook.remove(extra)\n",
    "        gradebook.append([\"poetry\", \"Pass\"])\n",
    "        \n",
    "print(gradebook)"
   ]
  },
  {
   "cell_type": "code",
   "execution_count": 20,
   "id": "4a54ebb2-82be-4f0d-914e-078993bd2f9e",
   "metadata": {},
   "outputs": [
    {
     "name": "stdout",
     "output_type": "stream",
     "text": [
      "[['politics', 80], ['latin', 96], ['dance', 97], ['architecture', 65]]\n"
     ]
    }
   ],
   "source": [
    "last_semester_subjects = [\"politics\", \"latin\", \"dance\", \"architecture\"]\n",
    "last_semester_grades = [80, 96, 97, 65]\n",
    "last_semester_gradebook = []\n",
    "for x in range(len(last_semester_subjects)):\n",
    "    last_semester_gradebook.append([last_semester_subjects[x], last_semester_grades[x]])\n",
    "    \n",
    "print(last_semester_gradebook)"
   ]
  },
  {
   "cell_type": "code",
   "execution_count": 21,
   "id": "50201a2c-2e8a-4f30-ad16-e508cf7b2512",
   "metadata": {},
   "outputs": [
    {
     "name": "stdout",
     "output_type": "stream",
     "text": [
      "[['politics', 80], ['latin', 96], ['dance', 97], ['architecture', 65], ['physics', 98], ['calculus', 97], ['history', 88], ['computer sience', 100], ['visual arts', 113], ['computer sience', 100], ['visual arts', 98]]\n"
     ]
    }
   ],
   "source": [
    "full_gradebook = last_semester_gradebook + gradebook\n",
    "print(full_gradebook)"
   ]
  }
 ],
 "metadata": {
  "kernelspec": {
   "display_name": "Python 3 (ipykernel)",
   "language": "python",
   "name": "python3"
  },
  "language_info": {
   "codemirror_mode": {
    "name": "ipython",
    "version": 3
   },
   "file_extension": ".py",
   "mimetype": "text/x-python",
   "name": "python",
   "nbconvert_exporter": "python",
   "pygments_lexer": "ipython3",
   "version": "3.9.13"
  }
 },
 "nbformat": 4,
 "nbformat_minor": 5
}
